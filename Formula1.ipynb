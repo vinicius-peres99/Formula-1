{
  "nbformat": 4,
  "nbformat_minor": 0,
  "metadata": {
    "colab": {
      "name": "Formula1.ipynb",
      "provenance": [],
      "include_colab_link": true
    },
    "kernelspec": {
      "name": "python3",
      "display_name": "Python 3"
    },
    "language_info": {
      "name": "python"
    }
  },
  "cells": [
    {
      "cell_type": "markdown",
      "metadata": {
        "id": "view-in-github",
        "colab_type": "text"
      },
      "source": [
        "<a href=\"https://colab.research.google.com/github/vinicius-peres99/Formula-1/blob/main/Formula1.ipynb\" target=\"_parent\"><img src=\"https://colab.research.google.com/assets/colab-badge.svg\" alt=\"Open In Colab\"/></a>"
      ]
    },
    {
      "cell_type": "markdown",
      "metadata": {
        "id": "2xS7ivgMdPHw"
      },
      "source": [
        "# 1 - Leitura de dados com pandas"
      ]
    },
    {
      "cell_type": "code",
      "metadata": {
        "colab": {
          "base_uri": "https://localhost:8080/"
        },
        "id": "T_LZppoBdOol",
        "outputId": "9efbceef-8021-416a-a6fa-c7d8c3c52e67"
      },
      "source": [
        "import pandas as pd\n",
        "import numpy as np\n",
        "import matplotlib.pyplot as plt\n",
        "import seaborn as sns\n",
        "import warnings\n",
        "\n",
        "f1 = pd.read_excel('/content/Dados/F1.xlsx')\n",
        " \n",
        "\n",
        "print(f1)"
      ],
      "execution_count": null,
      "outputs": [
        {
          "output_type": "stream",
          "text": [
            "                piloto                   equipe  ... posicao          tempo\n",
            "0         Sérgio Perez         Red Bull Racing   ...       1    2:13:36.410\n",
            "1    Sebastian Vettel      Aston Martin F1 Team  ...       2        +1.385s\n",
            "2         Pierre Gasly      Scuderia AlphaTauri  ...       3        +2.762s\n",
            "3     Charles Leclerc          Scuderia Ferrari  ...       4        +3.828s\n",
            "4         Lando Norris          McLaren Racing   ...       5        +4.754s\n",
            "5     Fernando Alonso           Alpine F1 Team   ...       6        +6.382s\n",
            "6         Yuki Tsunoda      Scuderia AlphaTauri  ...       7        +6.624s\n",
            "7         Carlos Sainz         Scuderia Ferrari  ...       8        +7.709s\n",
            "8     Daniel Ricciardo          McLaren Racing   ...       9        +8.874s\n",
            "9       Kimi Räikkönen        Alfa Romeo Racing  ...      10        +9.576s\n",
            "10  Antonio Giovinazzi        Alfa Romeo Racing  ...      11       +10.254s\n",
            "11     Valtteri Bottas  Mercedes AMG Motorsport  ...      12       +11.264s\n",
            "12     Mick Schumacher             Haas F1 Team  ...      13       +14.241s\n",
            "13      Nikita Mazepin             Haas F1 Team  ...      14       +14.315s\n",
            "14      Lewis Hamilton  Mercedes AMG Motorsport  ...      15       +17.668s\n",
            "15     Nicholas Latifi          Williams Racing  ...      16       +42.379s\n",
            "16      George Russell          Williams Racing  ...      17   Não concluiu\n",
            "17     Max Verstappen          Red Bull Racing   ...      18   Não concluiu\n",
            "18        Lance Stroll     Aston Martin F1 Team  ...      19   Não concluiu\n",
            "19        Esteban Ocon          Alpine F1 Team   ...      20   Não concluiu\n",
            "20     Max Verstappen          Red Bull Racing   ...       1    1:38:56.820\n",
            "21        Carlos Sainz         Scuderia Ferrari  ...       2        +8.968s\n",
            "22        Lando Norris          McLaren Racing   ...       3       +19.427s\n",
            "23        Sérgio Perez         Red Bull Racing   ...       4       +20.490s\n",
            "24   Sebastian Vettel      Aston Martin F1 Team  ...       5       +52.591s\n",
            "25        Pierre Gasly      Scuderia AlphaTauri  ...       6       +53.896s\n",
            "26      Lewis Hamilton  Mercedes AMG Motorsport  ...       7       +68.231s\n",
            "27        Lance Stroll     Aston Martin F1 Team  ...       8   Mais 1 volta\n",
            "28        Esteban Ocon          Alpine F1 Team   ...       9   Mais 1 volta\n",
            "29  Antonio Giovinazzi        Alfa Romeo Racing  ...      10   Mais 1 volta\n",
            "30      Kimi Räikkönen        Alfa Romeo Racing  ...      11   Mais 1 volta\n",
            "31    Daniel Ricciardo          McLaren Racing   ...      12   Mais 1 volta\n",
            "32    Fernando Alonso           Alpine F1 Team   ...      13   Mais 1 volta\n",
            "33      George Russell          Williams Racing  ...      14   Mais 1 volta\n",
            "34     Nicholas Latifi          Williams Racing  ...      15   Mais 1 volta\n",
            "35        Yuki Tsunoda      Scuderia AlphaTauri  ...      16   Mais 1 volta\n",
            "36      Nikita Mazepin             Haas F1 Team  ...      17   Mais 3 volta\n",
            "37     Mick Schumacher             Haas F1 Team  ...      18   Mais 3 volta\n",
            "38     Valtteri Bottas  Mercedes AMG Motorsport  ...      19   Não concluiu\n",
            "39    Charles Leclerc          Scuderia Ferrari  ...      20   Não concluiu\n",
            "40      Lewis Hamilton  Mercedes AMG Motorsport  ...       1    1:33:07.680\n",
            "41     Max Verstappen          Red Bull Racing   ...       2       +15.841s\n",
            "42     Valtteri Bottas  Mercedes AMG Motorsport  ...       3       +26.610s\n",
            "43    Charles Leclerc          Scuderia Ferrari  ...       4       +54.616s\n",
            "44        Sérgio Perez         Red Bull Racing   ...       5       +63.671s\n",
            "45    Daniel Ricciardo          McLaren Racing   ...       6       +73.768s\n",
            "46        Carlos Sainz         Scuderia Ferrari  ...       7       +74.670s\n",
            "47        Lando Norris          McLaren Racing   ...       8   Mais 1 volta\n",
            "48        Esteban Ocon          Alpine F1 Team   ...       9   Mais 1 volta\n",
            "49        Pierre Gasly      Scuderia AlphaTauri  ...      10   Mais 1 volta\n",
            "50        Lance Stroll     Aston Martin F1 Team  ...      11   Mais 1 volta\n",
            "51      Kimi Räikkönen        Alfa Romeo Racing  ...      12   Mais 1 volta\n",
            "52   Sebastian Vettel      Aston Martin F1 Team  ...      13   Mais 1 volta\n",
            "53      George Russell          Williams Racing  ...      14   Mais 1 volta\n",
            "54  Antonio Giovinazzi        Alfa Romeo Racing  ...      15   Mais 1 volta\n",
            "55     Nicholas Latifi          Williams Racing  ...      16   Mais 1 volta\n",
            "56    Fernando Alonso           Alpine F1 Team   ...      17   Mais 1 volta\n",
            "57     Mick Schumacher             Haas F1 Team  ...      18  Mais 2 voltas\n",
            "58      Nikita Mazepin             Haas F1 Team  ...      19  Mais 2 voltas\n",
            "59        Yuki Tsunoda      Scuderia AlphaTauri  ...      20   Não concluiu\n",
            "\n",
            "[60 rows x 6 columns]\n"
          ],
          "name": "stdout"
        }
      ]
    },
    {
      "cell_type": "markdown",
      "metadata": {
        "id": "NBRKmKJZdi37"
      },
      "source": [
        "# 2 - Manipulação e limpeza de dados com pandas"
      ]
    },
    {
      "cell_type": "code",
      "metadata": {
        "id": "Ozv-_5Oddoiz"
      },
      "source": [
        "f1 = f1.drop(columns=['tempo','etapa','posicao'])"
      ],
      "execution_count": null,
      "outputs": []
    },
    {
      "cell_type": "code",
      "metadata": {
        "colab": {
          "base_uri": "https://localhost:8080/"
        },
        "id": "klQF3c4Sd5OK",
        "outputId": "f40dff63-bd6f-404c-c47e-5e4f28473290"
      },
      "source": [
        "print(f1)"
      ],
      "execution_count": null,
      "outputs": [
        {
          "output_type": "stream",
          "text": [
            "                piloto                   equipe  pontuacao\n",
            "0         Sérgio Perez         Red Bull Racing          25\n",
            "1    Sebastian Vettel      Aston Martin F1 Team         18\n",
            "2         Pierre Gasly      Scuderia AlphaTauri         15\n",
            "3     Charles Leclerc          Scuderia Ferrari         12\n",
            "4         Lando Norris          McLaren Racing          10\n",
            "5     Fernando Alonso           Alpine F1 Team           8\n",
            "6         Yuki Tsunoda      Scuderia AlphaTauri          6\n",
            "7         Carlos Sainz         Scuderia Ferrari          4\n",
            "8     Daniel Ricciardo          McLaren Racing           2\n",
            "9       Kimi Räikkönen        Alfa Romeo Racing          1\n",
            "10  Antonio Giovinazzi        Alfa Romeo Racing          0\n",
            "11     Valtteri Bottas  Mercedes AMG Motorsport          0\n",
            "12     Mick Schumacher             Haas F1 Team          0\n",
            "13      Nikita Mazepin             Haas F1 Team          0\n",
            "14      Lewis Hamilton  Mercedes AMG Motorsport          0\n",
            "15     Nicholas Latifi          Williams Racing          0\n",
            "16      George Russell          Williams Racing          0\n",
            "17     Max Verstappen          Red Bull Racing           0\n",
            "18        Lance Stroll     Aston Martin F1 Team          0\n",
            "19        Esteban Ocon          Alpine F1 Team           0\n",
            "20     Max Verstappen          Red Bull Racing          25\n",
            "21        Carlos Sainz         Scuderia Ferrari         18\n",
            "22        Lando Norris          McLaren Racing          15\n",
            "23        Sérgio Perez         Red Bull Racing          12\n",
            "24   Sebastian Vettel      Aston Martin F1 Team         10\n",
            "25        Pierre Gasly      Scuderia AlphaTauri          8\n",
            "26      Lewis Hamilton  Mercedes AMG Motorsport          7\n",
            "27        Lance Stroll     Aston Martin F1 Team          4\n",
            "28        Esteban Ocon          Alpine F1 Team           2\n",
            "29  Antonio Giovinazzi        Alfa Romeo Racing          1\n",
            "30      Kimi Räikkönen        Alfa Romeo Racing          0\n",
            "31    Daniel Ricciardo          McLaren Racing           0\n",
            "32    Fernando Alonso           Alpine F1 Team           0\n",
            "33      George Russell          Williams Racing          0\n",
            "34     Nicholas Latifi          Williams Racing          0\n",
            "35        Yuki Tsunoda      Scuderia AlphaTauri          0\n",
            "36      Nikita Mazepin             Haas F1 Team          0\n",
            "37     Mick Schumacher             Haas F1 Team          0\n",
            "38     Valtteri Bottas  Mercedes AMG Motorsport          0\n",
            "39    Charles Leclerc          Scuderia Ferrari          0\n",
            "40      Lewis Hamilton  Mercedes AMG Motorsport         25\n",
            "41     Max Verstappen          Red Bull Racing          19\n",
            "42     Valtteri Bottas  Mercedes AMG Motorsport         15\n",
            "43    Charles Leclerc          Scuderia Ferrari         15\n",
            "44        Sérgio Perez         Red Bull Racing          10\n",
            "45    Daniel Ricciardo          McLaren Racing           8\n",
            "46        Carlos Sainz         Scuderia Ferrari          6\n",
            "47        Lando Norris          McLaren Racing           4\n",
            "48        Esteban Ocon          Alpine F1 Team           2\n",
            "49        Pierre Gasly      Scuderia AlphaTauri          1\n",
            "50        Lance Stroll     Aston Martin F1 Team          0\n",
            "51      Kimi Räikkönen        Alfa Romeo Racing          0\n",
            "52   Sebastian Vettel      Aston Martin F1 Team          0\n",
            "53      George Russell          Williams Racing          0\n",
            "54  Antonio Giovinazzi        Alfa Romeo Racing          0\n",
            "55     Nicholas Latifi          Williams Racing          0\n",
            "56    Fernando Alonso           Alpine F1 Team           0\n",
            "57     Mick Schumacher             Haas F1 Team          0\n",
            "58      Nikita Mazepin             Haas F1 Team          0\n",
            "59        Yuki Tsunoda      Scuderia AlphaTauri          0\n"
          ],
          "name": "stdout"
        }
      ]
    },
    {
      "cell_type": "markdown",
      "metadata": {
        "id": "0OlxXRwFhlSo"
      },
      "source": [
        "# 3 - Descritivo e exploração de dados com pandas (groupbys)"
      ]
    },
    {
      "cell_type": "code",
      "metadata": {
        "id": "ia0jOB81eEVo"
      },
      "source": [
        "f1 = f1[['equipe','pontuacao']]\n",
        "f1equipe = f1.groupby('equipe').sum()"
      ],
      "execution_count": null,
      "outputs": []
    },
    {
      "cell_type": "code",
      "metadata": {
        "colab": {
          "base_uri": "https://localhost:8080/"
        },
        "id": "wMnbBdKOg4gw",
        "outputId": "e90a3dcf-cdbb-4c75-9f57-a610c46304c5"
      },
      "source": [
        "f1EquipeOrdem = f1equipe.sort_values(by=['pontuacao'], ascending=False)\n",
        "print(f1EquipeOrdem)"
      ],
      "execution_count": null,
      "outputs": [
        {
          "output_type": "stream",
          "text": [
            "                         pontuacao  codigoEquipe\n",
            "equipe                                          \n",
            "Red Bull Racing                 91             7\n",
            "Scuderia Ferrari                55             9\n",
            "Mercedes AMG Motorsport         47             6\n",
            "McLaren Racing                  39             5\n",
            "Aston Martin F1 Team            32             3\n",
            "Scuderia AlphaTauri             30             8\n",
            "Alpine F1 Team                  12             2\n",
            "Alfa Romeo Racing                2             1\n",
            "Haas F1 Team                     0             4\n",
            "Williams Racing                  0            10\n"
          ],
          "name": "stdout"
        }
      ]
    },
    {
      "cell_type": "code",
      "metadata": {
        "id": "ApUPZ7hgojPl"
      },
      "source": [
        "f1EquipeOrdem['codigoEquipe'] = [1,2,3,4,5,6,7,8,9,10]"
      ],
      "execution_count": null,
      "outputs": []
    },
    {
      "cell_type": "code",
      "metadata": {
        "colab": {
          "base_uri": "https://localhost:8080/"
        },
        "id": "dDN0kWqRo3MZ",
        "outputId": "72a6ad89-2c81-4647-9e28-29dc7ca07c96"
      },
      "source": [
        "print(f1EquipeOrdem)"
      ],
      "execution_count": null,
      "outputs": [
        {
          "output_type": "stream",
          "text": [
            "                         pontuacao  codigoEquipe\n",
            "equipe                                          \n",
            "Red Bull Racing                 91             1\n",
            "Scuderia Ferrari                55             2\n",
            "Mercedes AMG Motorsport         47             3\n",
            "McLaren Racing                  39             4\n",
            "Aston Martin F1 Team            32             5\n",
            "Scuderia AlphaTauri             30             6\n",
            "Alpine F1 Team                  12             7\n",
            "Alfa Romeo Racing                2             8\n",
            "Haas F1 Team                     0             9\n",
            "Williams Racing                  0            10\n"
          ],
          "name": "stdout"
        }
      ]
    },
    {
      "cell_type": "markdown",
      "metadata": {
        "id": "wGaHJ6W3h29h"
      },
      "source": [
        "# 4 - Figuras que mostrem insights sobre os dados com pandas e matplotlib"
      ]
    },
    {
      "cell_type": "code",
      "metadata": {
        "colab": {
          "base_uri": "https://localhost:8080/",
          "height": 264
        },
        "id": "-j0TaKCOh9JL",
        "outputId": "935b946b-83b5-4b3b-903b-00f497ed2d8e"
      },
      "source": [
        "\n",
        "pontuacao = f1EquipeOrdem['pontuacao']\n",
        "equipe = f1EquipeOrdem[\"codigoEquipe\"]\n",
        "\n",
        "plt.pie(pontuacao, labels=equipe, autopct='%1.1f%%',\n",
        "        shadow=True, startangle=90)\n",
        "\n",
        "plt.title('Pontos Equipes')\n",
        "\n",
        "plt.show()"
      ],
      "execution_count": null,
      "outputs": [
        {
          "output_type": "display_data",
          "data": {
            "image/png": "[encoded data removed]",
            "text/plain": [
              "<Figure size 432x288 with 1 Axes>"
            ]
          },
          "metadata": {
            "tags": []
          }
        }
      ]
    },
    {
      "cell_type": "markdown",
      "metadata": {
        "id": "CbA93yRHrv0q"
      },
      "source": [
        "\n",
        "# 5 - Quebrar os dados em conjunto de treino e conjunto de teste:"
      ]
    },
    {
      "cell_type": "code",
      "metadata": {
        "id": "i6IIQ-qesREa"
      },
      "source": [
        "from sklearn.model_selection import train_test_split"
      ],
      "execution_count": null,
      "outputs": []
    },
    {
      "cell_type": "code",
      "metadata": {
        "colab": {
          "base_uri": "https://localhost:8080/"
        },
        "id": "AJgqQBRRr1Hy",
        "outputId": "6f04c51b-ed55-4a4b-f02d-7037908ea85f"
      },
      "source": [
        "\n",
        "X = f1EquipeOrdem.drop(columns='codigoEquipe')\n",
        "y = f1EquipeOrdem['codigoEquipe']\n",
        "print(X.shape, y.shape)\n",
        "\n",
        "# Separando os dados de treino e teste\n",
        "X_treino, X_teste, y_treino, y_teste = train_test_split(X, y, test_size=0.3, random_state=123)"
      ],
      "execution_count": null,
      "outputs": [
        {
          "output_type": "stream",
          "text": [
            "(10, 1) (10,)\n"
          ],
          "name": "stdout"
        }
      ]
    },
    {
      "cell_type": "markdown",
      "metadata": {
        "id": "JL4PmzAfte2P"
      },
      "source": [
        "\n",
        "# 6-Treinar um estimador do scikit-learn de aprendizagem supervisionada (regressor ou classificador) no conjunto de treino"
      ]
    },
    {
      "cell_type": "code",
      "metadata": {
        "id": "rjGfBsBptgT_"
      },
      "source": [
        "from sklearn.svm import SVC\n",
        "from sklearn.metrics import accuracy_score\n",
        "\n",
        "resultado = []\n",
        "for kernel in ['linear', 'poly', 'rbf']:\n",
        "    clf = SVC(kernel=kernel)\n",
        "    clf.fit(X_treino, y_treino)\n",
        "    \n",
        "    # Gerar previsoes no Train Set\n",
        "    y_previsto = clf.predict(X_teste)\n",
        "    acc = round(accuracy_score(y_teste, y_previsto) * 100, 2)\n",
        "    resultado.append(acc)"
      ],
      "execution_count": null,
      "outputs": []
    },
    {
      "cell_type": "markdown",
      "metadata": {
        "id": "vCJPvvubttR-"
      },
      "source": [
        "\n",
        "# 7 - Verificar o desempenho do estimador do scikit-learn no conjunto de teste:"
      ]
    },
    {
      "cell_type": "code",
      "metadata": {
        "colab": {
          "base_uri": "https://localhost:8080/"
        },
        "id": "QlhfWAPktwzJ",
        "outputId": "2cbfdc31-ea8a-40a8-e4e2-ad1405e25e13"
      },
      "source": [
        "print(f'Acurácia de teste - Kernel[linear]: {resultado[0]}%')\n",
        "print(f'Acurácia de teste - Kernel[poly]: {resultado[1]}%')\n",
        "print(f'Acurácia de teste - Kernel[rbf]: {resultado[2]}%')"
      ],
      "execution_count": null,
      "outputs": [
        {
          "output_type": "stream",
          "text": [
            "Acurácia de teste - Kernel[linear]: 0.0%\n",
            "Acurácia de teste - Kernel[poly]: 0.0%\n",
            "Acurácia de teste - Kernel[rbf]: 0.0%\n"
          ],
          "name": "stdout"
        }
      ]
    }
  ]
}